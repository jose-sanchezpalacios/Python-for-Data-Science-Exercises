{
 "cells": [
  {
   "cell_type": "code",
   "execution_count": 1,
   "metadata": {},
   "outputs": [],
   "source": [
    "import pandas as pd"
   ]
  },
  {
   "cell_type": "code",
   "execution_count": 2,
   "metadata": {},
   "outputs": [],
   "source": [
    "crime_data = pd.read_csv('/Users/josepalacios/Documents/Machine Learning/boston_crime')"
   ]
  },
  {
   "cell_type": "code",
   "execution_count": 4,
   "metadata": {},
   "outputs": [
    {
     "name": "stdout",
     "output_type": "stream",
     "text": [
      "(319073, 17)\n"
     ]
    }
   ],
   "source": [
    "# Get the number of rows and columns\n",
    "print(crime_data.shape)"
   ]
  },
  {
   "cell_type": "code",
   "execution_count": 5,
   "metadata": {},
   "outputs": [
    {
     "name": "stdout",
     "output_type": "stream",
     "text": [
      "Index(['INCIDENT_NUMBER', 'OFFENSE_CODE', 'OFFENSE_CODE_GROUP',\n",
      "       'OFFENSE_DESCRIPTION', 'DISTRICT', 'REPORTING_AREA', 'SHOOTING',\n",
      "       'OCCURRED_ON_DATE', 'YEAR', 'MONTH', 'DAY_OF_WEEK', 'HOUR', 'UCR_PART',\n",
      "       'STREET', 'Lat', 'Long', 'Location'],\n",
      "      dtype='object')\n"
     ]
    }
   ],
   "source": [
    "# Get Column names\n",
    "print(crime_data.columns)"
   ]
  },
  {
   "cell_type": "code",
   "execution_count": 6,
   "metadata": {},
   "outputs": [
    {
     "name": "stdout",
     "output_type": "stream",
     "text": [
      "INCIDENT_NUMBER         object\n",
      "OFFENSE_CODE             int64\n",
      "OFFENSE_CODE_GROUP      object\n",
      "OFFENSE_DESCRIPTION     object\n",
      "DISTRICT                object\n",
      "REPORTING_AREA          object\n",
      "SHOOTING                object\n",
      "OCCURRED_ON_DATE        object\n",
      "YEAR                     int64\n",
      "MONTH                    int64\n",
      "DAY_OF_WEEK             object\n",
      "HOUR                     int64\n",
      "UCR_PART                object\n",
      "STREET                  object\n",
      "Lat                    float64\n",
      "Long                   float64\n",
      "Location                object\n",
      "dtype: object\n"
     ]
    }
   ],
   "source": [
    "# Get the dtype of each Column\n",
    "print(crime_data.dtypes)"
   ]
  },
  {
   "cell_type": "markdown",
   "metadata": {},
   "source": [
    "\n",
    "\n",
    "| Pandas Type  | Python type | Description |\n",
    "| --- | --- | --- |\n",
    "| object | string | most common type |\n",
    "| int64 | int | Whole Numbers |\n",
    "| float64 | float | Numbers and "
   ]
  },
  {
   "cell_type": "code",
   "execution_count": 7,
   "metadata": {},
   "outputs": [
    {
     "name": "stdout",
     "output_type": "stream",
     "text": [
      "INCIDENT_NUMBER                         I182070945\n",
      "OFFENSE_CODE                                   619\n",
      "OFFENSE_CODE_GROUP                         Larceny\n",
      "OFFENSE_DESCRIPTION             LARCENY ALL OTHERS\n",
      "DISTRICT                                       D14\n",
      "REPORTING_AREA                                 808\n",
      "SHOOTING                                       NaN\n",
      "OCCURRED_ON_DATE               2018-09-02 13:00:00\n",
      "YEAR                                          2018\n",
      "MONTH                                            9\n",
      "DAY_OF_WEEK                                 Sunday\n",
      "HOUR                                            13\n",
      "UCR_PART                                  Part One\n",
      "STREET                                  LINCOLN ST\n",
      "Lat                                        42.3578\n",
      "Long                                      -71.1394\n",
      "Location               (42.35779134, -71.13937053)\n",
      "Name: 0, dtype: object\n"
     ]
    }
   ],
   "source": [
    "# Get the first Row. \n",
    "print(crime_data.loc[0])"
   ]
  },
  {
   "cell_type": "code",
   "execution_count": 9,
   "metadata": {},
   "outputs": [
    {
     "name": "stdout",
     "output_type": "stream",
     "text": [
      "  INCIDENT_NUMBER  OFFENSE_CODE OFFENSE_CODE_GROUP OFFENSE_DESCRIPTION  \\\n",
      "0      I182070945           619            Larceny  LARCENY ALL OTHERS   \n",
      "\n",
      "  DISTRICT REPORTING_AREA SHOOTING     OCCURRED_ON_DATE  YEAR  MONTH  \\\n",
      "0      D14            808      NaN  2018-09-02 13:00:00  2018      9   \n",
      "\n",
      "  DAY_OF_WEEK  HOUR  UCR_PART      STREET        Lat       Long  \\\n",
      "0      Sunday    13  Part One  LINCOLN ST  42.357791 -71.139371   \n",
      "\n",
      "                      Location  \n",
      "0  (42.35779134, -71.13937053)  \n"
     ]
    }
   ],
   "source": [
    "print(crime_data.head(1))"
   ]
  },
  {
   "cell_type": "code",
   "execution_count": 11,
   "metadata": {},
   "outputs": [
    {
     "data": {
      "text/plain": [
       "INCIDENT_NUMBER             0\n",
       "OFFENSE_CODE                0\n",
       "OFFENSE_CODE_GROUP          0\n",
       "OFFENSE_DESCRIPTION         0\n",
       "DISTRICT                 1765\n",
       "REPORTING_AREA              0\n",
       "SHOOTING               318054\n",
       "OCCURRED_ON_DATE            0\n",
       "YEAR                        0\n",
       "MONTH                       0\n",
       "DAY_OF_WEEK                 0\n",
       "HOUR                        0\n",
       "UCR_PART                   90\n",
       "STREET                  10871\n",
       "Lat                     19999\n",
       "Long                    19999\n",
       "Location                    0\n",
       "dtype: int64"
      ]
     },
     "execution_count": 11,
     "metadata": {},
     "output_type": "execute_result"
    }
   ],
   "source": [
    "# Count Missing Values\n",
    "crime_data.isnull().sum()"
   ]
  },
  {
   "cell_type": "code",
   "execution_count": 17,
   "metadata": {},
   "outputs": [
    {
     "data": {
      "text/plain": [
       "NaN    318054\n",
       "Y        1019\n",
       "Name: SHOOTING, dtype: int64"
      ]
     },
     "execution_count": 17,
     "metadata": {},
     "output_type": "execute_result"
    }
   ],
   "source": [
    "# Missing Values in one Column.\n",
    "crime_data.SHOOTING.value_counts(dropna = False)"
   ]
  },
  {
   "cell_type": "code",
   "execution_count": 20,
   "metadata": {},
   "outputs": [
    {
     "data": {
      "text/plain": [
       "1019"
      ]
     },
     "execution_count": 20,
     "metadata": {},
     "output_type": "execute_result"
    }
   ],
   "source": [
    "# Verify if the values filled are Y\n",
    "crime_data.SHOOTING.value_counts()['Y']\n"
   ]
  },
  {
   "cell_type": "markdown",
   "metadata": {},
   "source": [
    "Shooting is boolean, Y or N . I will assume all the NaN = 318054 are N values Missings and replace empty with N. "
   ]
  },
  {
   "cell_type": "code",
   "execution_count": 26,
   "metadata": {},
   "outputs": [],
   "source": [
    "# Fill the missing values with 'N'\n",
    "# Replace 'N' and 'Y' with False and True.\n",
    "crime_data.SHOOTING.fillna('N', inplace= True)\n",
    "crime_data.SHOOTING.replace({'Y': True, 'N': False}, inplace = True)"
   ]
  },
  {
   "cell_type": "code",
   "execution_count": 27,
   "metadata": {},
   "outputs": [
    {
     "data": {
      "text/plain": [
       "False    318054\n",
       "True       1019\n",
       "Name: SHOOTING, dtype: int64"
      ]
     },
     "execution_count": 27,
     "metadata": {},
     "output_type": "execute_result"
    }
   ],
   "source": [
    "# Verify there are not missing values anymore. \n",
    "crime_data.SHOOTING.value_counts(dropna = False)\n"
   ]
  },
  {
   "cell_type": "code",
   "execution_count": 30,
   "metadata": {},
   "outputs": [
    {
     "data": {
      "text/plain": [
       "I162030584    13\n",
       "I152080623    11\n",
       "I182065208    10\n",
       "I172013170    10\n",
       "I172096394    10\n",
       "              ..\n",
       "I152070889     1\n",
       "I172008161     1\n",
       "I172019021     1\n",
       "I162104830     1\n",
       "I162013762     1\n",
       "Name: INCIDENT_NUMBER, Length: 282517, dtype: int64"
      ]
     },
     "execution_count": 30,
     "metadata": {},
     "output_type": "execute_result"
    }
   ],
   "source": [
    "# Check for duplicates \n",
    "# Lets assume Incident Number is the primary key \n",
    "crime_data.INCIDENT_NUMBER.value_counts()"
   ]
  },
  {
   "cell_type": "code",
   "execution_count": 35,
   "metadata": {},
   "outputs": [
    {
     "data": {
      "text/html": [
       "<div>\n",
       "<style scoped>\n",
       "    .dataframe tbody tr th:only-of-type {\n",
       "        vertical-align: middle;\n",
       "    }\n",
       "\n",
       "    .dataframe tbody tr th {\n",
       "        vertical-align: top;\n",
       "    }\n",
       "\n",
       "    .dataframe thead th {\n",
       "        text-align: right;\n",
       "    }\n",
       "</style>\n",
       "<table border=\"1\" class=\"dataframe\">\n",
       "  <thead>\n",
       "    <tr style=\"text-align: right;\">\n",
       "      <th></th>\n",
       "      <th>237660</th>\n",
       "      <th>237661</th>\n",
       "      <th>237662</th>\n",
       "    </tr>\n",
       "  </thead>\n",
       "  <tbody>\n",
       "    <tr>\n",
       "      <th>INCIDENT_NUMBER</th>\n",
       "      <td>I162030584</td>\n",
       "      <td>I162030584</td>\n",
       "      <td>I162030584</td>\n",
       "    </tr>\n",
       "    <tr>\n",
       "      <th>OFFENSE_CODE</th>\n",
       "      <td>423</td>\n",
       "      <td>802</td>\n",
       "      <td>1501</td>\n",
       "    </tr>\n",
       "    <tr>\n",
       "      <th>OFFENSE_CODE_GROUP</th>\n",
       "      <td>Aggravated Assault</td>\n",
       "      <td>Simple Assault</td>\n",
       "      <td>Firearm Violations</td>\n",
       "    </tr>\n",
       "    <tr>\n",
       "      <th>OFFENSE_DESCRIPTION</th>\n",
       "      <td>ASSAULT - AGGRAVATED</td>\n",
       "      <td>ASSAULT SIMPLE - BATTERY</td>\n",
       "      <td>WEAPON - FIREARM - CARRYING / POSSESSING, ETC</td>\n",
       "    </tr>\n",
       "    <tr>\n",
       "      <th>DISTRICT</th>\n",
       "      <td>C11</td>\n",
       "      <td>C11</td>\n",
       "      <td>C11</td>\n",
       "    </tr>\n",
       "    <tr>\n",
       "      <th>REPORTING_AREA</th>\n",
       "      <td>243</td>\n",
       "      <td>243</td>\n",
       "      <td>243</td>\n",
       "    </tr>\n",
       "    <tr>\n",
       "      <th>SHOOTING</th>\n",
       "      <td>False</td>\n",
       "      <td>False</td>\n",
       "      <td>False</td>\n",
       "    </tr>\n",
       "    <tr>\n",
       "      <th>OCCURRED_ON_DATE</th>\n",
       "      <td>2016-04-20 11:07:00</td>\n",
       "      <td>2016-04-20 11:07:00</td>\n",
       "      <td>2016-04-20 11:07:00</td>\n",
       "    </tr>\n",
       "    <tr>\n",
       "      <th>YEAR</th>\n",
       "      <td>2016</td>\n",
       "      <td>2016</td>\n",
       "      <td>2016</td>\n",
       "    </tr>\n",
       "    <tr>\n",
       "      <th>MONTH</th>\n",
       "      <td>4</td>\n",
       "      <td>4</td>\n",
       "      <td>4</td>\n",
       "    </tr>\n",
       "    <tr>\n",
       "      <th>DAY_OF_WEEK</th>\n",
       "      <td>Wednesday</td>\n",
       "      <td>Wednesday</td>\n",
       "      <td>Wednesday</td>\n",
       "    </tr>\n",
       "    <tr>\n",
       "      <th>HOUR</th>\n",
       "      <td>11</td>\n",
       "      <td>11</td>\n",
       "      <td>11</td>\n",
       "    </tr>\n",
       "    <tr>\n",
       "      <th>UCR_PART</th>\n",
       "      <td>Part One</td>\n",
       "      <td>Part Two</td>\n",
       "      <td>Part Two</td>\n",
       "    </tr>\n",
       "    <tr>\n",
       "      <th>STREET</th>\n",
       "      <td>TRESCOTT ST</td>\n",
       "      <td>TRESCOTT ST</td>\n",
       "      <td>TRESCOTT ST</td>\n",
       "    </tr>\n",
       "    <tr>\n",
       "      <th>Lat</th>\n",
       "      <td>42.3158</td>\n",
       "      <td>42.3158</td>\n",
       "      <td>42.3158</td>\n",
       "    </tr>\n",
       "    <tr>\n",
       "      <th>Long</th>\n",
       "      <td>-71.0605</td>\n",
       "      <td>-71.0605</td>\n",
       "      <td>-71.0605</td>\n",
       "    </tr>\n",
       "    <tr>\n",
       "      <th>Location</th>\n",
       "      <td>(42.31580044, -71.06052053)</td>\n",
       "      <td>(42.31580044, -71.06052053)</td>\n",
       "      <td>(42.31580044, -71.06052053)</td>\n",
       "    </tr>\n",
       "  </tbody>\n",
       "</table>\n",
       "</div>"
      ],
      "text/plain": [
       "                                          237660                       237661  \\\n",
       "INCIDENT_NUMBER                       I162030584                   I162030584   \n",
       "OFFENSE_CODE                                 423                          802   \n",
       "OFFENSE_CODE_GROUP            Aggravated Assault               Simple Assault   \n",
       "OFFENSE_DESCRIPTION         ASSAULT - AGGRAVATED     ASSAULT SIMPLE - BATTERY   \n",
       "DISTRICT                                     C11                          C11   \n",
       "REPORTING_AREA                               243                          243   \n",
       "SHOOTING                                   False                        False   \n",
       "OCCURRED_ON_DATE             2016-04-20 11:07:00          2016-04-20 11:07:00   \n",
       "YEAR                                        2016                         2016   \n",
       "MONTH                                          4                            4   \n",
       "DAY_OF_WEEK                            Wednesday                    Wednesday   \n",
       "HOUR                                          11                           11   \n",
       "UCR_PART                                Part One                     Part Two   \n",
       "STREET                               TRESCOTT ST                  TRESCOTT ST   \n",
       "Lat                                      42.3158                      42.3158   \n",
       "Long                                    -71.0605                     -71.0605   \n",
       "Location             (42.31580044, -71.06052053)  (42.31580044, -71.06052053)   \n",
       "\n",
       "                                                            237662  \n",
       "INCIDENT_NUMBER                                         I162030584  \n",
       "OFFENSE_CODE                                                  1501  \n",
       "OFFENSE_CODE_GROUP                              Firearm Violations  \n",
       "OFFENSE_DESCRIPTION  WEAPON - FIREARM - CARRYING / POSSESSING, ETC  \n",
       "DISTRICT                                                       C11  \n",
       "REPORTING_AREA                                                 243  \n",
       "SHOOTING                                                     False  \n",
       "OCCURRED_ON_DATE                               2016-04-20 11:07:00  \n",
       "YEAR                                                          2016  \n",
       "MONTH                                                            4  \n",
       "DAY_OF_WEEK                                              Wednesday  \n",
       "HOUR                                                            11  \n",
       "UCR_PART                                                  Part Two  \n",
       "STREET                                                 TRESCOTT ST  \n",
       "Lat                                                        42.3158  \n",
       "Long                                                      -71.0605  \n",
       "Location                               (42.31580044, -71.06052053)  "
      ]
     },
     "execution_count": 35,
     "metadata": {},
     "output_type": "execute_result"
    }
   ],
   "source": [
    "# Lets analize duplicate values. \n",
    "\n",
    "crime_data[crime_data.INCIDENT_NUMBER == 'I162030584'].head(3).T"
   ]
  },
  {
   "cell_type": "markdown",
   "metadata": {},
   "source": [
    "The offense are different but the locations are the same. occured_on_date is the same, **there is a discrepancy**"
   ]
  },
  {
   "cell_type": "markdown",
   "metadata": {},
   "source": []
  },
  {
   "cell_type": "code",
   "execution_count": null,
   "metadata": {},
   "outputs": [],
   "source": []
  }
 ],
 "metadata": {
  "kernelspec": {
   "display_name": "Python 3.8.5 ('base')",
   "language": "python",
   "name": "python3"
  },
  "language_info": {
   "codemirror_mode": {
    "name": "ipython",
    "version": 3
   },
   "file_extension": ".py",
   "mimetype": "text/x-python",
   "name": "python",
   "nbconvert_exporter": "python",
   "pygments_lexer": "ipython3",
   "version": "3.8.5"
  },
  "vscode": {
   "interpreter": {
    "hash": "57c58990356582bcb6feaf92d01f1edad25481d7c4ac23a4768bb40b8703fd9b"
   }
  }
 },
 "nbformat": 4,
 "nbformat_minor": 4
}
